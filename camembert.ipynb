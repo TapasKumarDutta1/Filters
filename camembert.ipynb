{
  "nbformat": 4,
  "nbformat_minor": 0,
  "metadata": {
    "colab": {
      "name": "camembert.ipynb",
      "provenance": [],
      "authorship_tag": "ABX9TyPgqOjFQj60WLbXL0KSoO+W",
      "include_colab_link": true
    },
    "kernelspec": {
      "name": "python3",
      "display_name": "Python 3"
    },
    "widgets": {
      "application/vnd.jupyter.widget-state+json": {
        "49b7a415cdee43c0aa0e87918d48fb6d": {
          "model_module": "@jupyter-widgets/controls",
          "model_name": "HBoxModel",
          "state": {
            "_view_name": "HBoxView",
            "_dom_classes": [],
            "_model_name": "HBoxModel",
            "_view_module": "@jupyter-widgets/controls",
            "_model_module_version": "1.5.0",
            "_view_count": null,
            "_view_module_version": "1.5.0",
            "box_style": "",
            "layout": "IPY_MODEL_fc1733d3227a47128b5ccada120bac49",
            "_model_module": "@jupyter-widgets/controls",
            "children": [
              "IPY_MODEL_164ac4ccf32f4966a1d437f042f8b0cc",
              "IPY_MODEL_0eade495e41e48cf800b215e046bb7f0"
            ]
          }
        },
        "fc1733d3227a47128b5ccada120bac49": {
          "model_module": "@jupyter-widgets/base",
          "model_name": "LayoutModel",
          "state": {
            "_view_name": "LayoutView",
            "grid_template_rows": null,
            "right": null,
            "justify_content": null,
            "_view_module": "@jupyter-widgets/base",
            "overflow": null,
            "_model_module_version": "1.2.0",
            "_view_count": null,
            "flex_flow": null,
            "width": null,
            "min_width": null,
            "border": null,
            "align_items": null,
            "bottom": null,
            "_model_module": "@jupyter-widgets/base",
            "top": null,
            "grid_column": null,
            "overflow_y": null,
            "overflow_x": null,
            "grid_auto_flow": null,
            "grid_area": null,
            "grid_template_columns": null,
            "flex": null,
            "_model_name": "LayoutModel",
            "justify_items": null,
            "grid_row": null,
            "max_height": null,
            "align_content": null,
            "visibility": null,
            "align_self": null,
            "height": null,
            "min_height": null,
            "padding": null,
            "grid_auto_rows": null,
            "grid_gap": null,
            "max_width": null,
            "order": null,
            "_view_module_version": "1.2.0",
            "grid_template_areas": null,
            "object_position": null,
            "object_fit": null,
            "grid_auto_columns": null,
            "margin": null,
            "display": null,
            "left": null
          }
        },
        "164ac4ccf32f4966a1d437f042f8b0cc": {
          "model_module": "@jupyter-widgets/controls",
          "model_name": "FloatProgressModel",
          "state": {
            "_view_name": "ProgressView",
            "style": "IPY_MODEL_bb496653801c4578a9d1d24013a72d6f",
            "_dom_classes": [],
            "description": "Downloading: 100%",
            "_model_name": "FloatProgressModel",
            "bar_style": "success",
            "max": 508,
            "_view_module": "@jupyter-widgets/controls",
            "_model_module_version": "1.5.0",
            "value": 508,
            "_view_count": null,
            "_view_module_version": "1.5.0",
            "orientation": "horizontal",
            "min": 0,
            "description_tooltip": null,
            "_model_module": "@jupyter-widgets/controls",
            "layout": "IPY_MODEL_b00224746eae4f998319276a5da9a9df"
          }
        },
        "0eade495e41e48cf800b215e046bb7f0": {
          "model_module": "@jupyter-widgets/controls",
          "model_name": "HTMLModel",
          "state": {
            "_view_name": "HTMLView",
            "style": "IPY_MODEL_eac79f3fe6bc4a0185949bcf0089851d",
            "_dom_classes": [],
            "description": "",
            "_model_name": "HTMLModel",
            "placeholder": "​",
            "_view_module": "@jupyter-widgets/controls",
            "_model_module_version": "1.5.0",
            "value": " 508/508 [00:00&lt;00:00, 7.71kB/s]",
            "_view_count": null,
            "_view_module_version": "1.5.0",
            "description_tooltip": null,
            "_model_module": "@jupyter-widgets/controls",
            "layout": "IPY_MODEL_894ab7a330e14f8d9645de9fefd65a86"
          }
        },
        "bb496653801c4578a9d1d24013a72d6f": {
          "model_module": "@jupyter-widgets/controls",
          "model_name": "ProgressStyleModel",
          "state": {
            "_view_name": "StyleView",
            "_model_name": "ProgressStyleModel",
            "description_width": "initial",
            "_view_module": "@jupyter-widgets/base",
            "_model_module_version": "1.5.0",
            "_view_count": null,
            "_view_module_version": "1.2.0",
            "bar_color": null,
            "_model_module": "@jupyter-widgets/controls"
          }
        },
        "b00224746eae4f998319276a5da9a9df": {
          "model_module": "@jupyter-widgets/base",
          "model_name": "LayoutModel",
          "state": {
            "_view_name": "LayoutView",
            "grid_template_rows": null,
            "right": null,
            "justify_content": null,
            "_view_module": "@jupyter-widgets/base",
            "overflow": null,
            "_model_module_version": "1.2.0",
            "_view_count": null,
            "flex_flow": null,
            "width": null,
            "min_width": null,
            "border": null,
            "align_items": null,
            "bottom": null,
            "_model_module": "@jupyter-widgets/base",
            "top": null,
            "grid_column": null,
            "overflow_y": null,
            "overflow_x": null,
            "grid_auto_flow": null,
            "grid_area": null,
            "grid_template_columns": null,
            "flex": null,
            "_model_name": "LayoutModel",
            "justify_items": null,
            "grid_row": null,
            "max_height": null,
            "align_content": null,
            "visibility": null,
            "align_self": null,
            "height": null,
            "min_height": null,
            "padding": null,
            "grid_auto_rows": null,
            "grid_gap": null,
            "max_width": null,
            "order": null,
            "_view_module_version": "1.2.0",
            "grid_template_areas": null,
            "object_position": null,
            "object_fit": null,
            "grid_auto_columns": null,
            "margin": null,
            "display": null,
            "left": null
          }
        },
        "eac79f3fe6bc4a0185949bcf0089851d": {
          "model_module": "@jupyter-widgets/controls",
          "model_name": "DescriptionStyleModel",
          "state": {
            "_view_name": "StyleView",
            "_model_name": "DescriptionStyleModel",
            "description_width": "",
            "_view_module": "@jupyter-widgets/base",
            "_model_module_version": "1.5.0",
            "_view_count": null,
            "_view_module_version": "1.2.0",
            "_model_module": "@jupyter-widgets/controls"
          }
        },
        "894ab7a330e14f8d9645de9fefd65a86": {
          "model_module": "@jupyter-widgets/base",
          "model_name": "LayoutModel",
          "state": {
            "_view_name": "LayoutView",
            "grid_template_rows": null,
            "right": null,
            "justify_content": null,
            "_view_module": "@jupyter-widgets/base",
            "overflow": null,
            "_model_module_version": "1.2.0",
            "_view_count": null,
            "flex_flow": null,
            "width": null,
            "min_width": null,
            "border": null,
            "align_items": null,
            "bottom": null,
            "_model_module": "@jupyter-widgets/base",
            "top": null,
            "grid_column": null,
            "overflow_y": null,
            "overflow_x": null,
            "grid_auto_flow": null,
            "grid_area": null,
            "grid_template_columns": null,
            "flex": null,
            "_model_name": "LayoutModel",
            "justify_items": null,
            "grid_row": null,
            "max_height": null,
            "align_content": null,
            "visibility": null,
            "align_self": null,
            "height": null,
            "min_height": null,
            "padding": null,
            "grid_auto_rows": null,
            "grid_gap": null,
            "max_width": null,
            "order": null,
            "_view_module_version": "1.2.0",
            "grid_template_areas": null,
            "object_position": null,
            "object_fit": null,
            "grid_auto_columns": null,
            "margin": null,
            "display": null,
            "left": null
          }
        },
        "37c14e68fe964ae1baa2063a47de6766": {
          "model_module": "@jupyter-widgets/controls",
          "model_name": "HBoxModel",
          "state": {
            "_view_name": "HBoxView",
            "_dom_classes": [],
            "_model_name": "HBoxModel",
            "_view_module": "@jupyter-widgets/controls",
            "_model_module_version": "1.5.0",
            "_view_count": null,
            "_view_module_version": "1.5.0",
            "box_style": "",
            "layout": "IPY_MODEL_0297015a7f8740f7a364f4f8ba43726c",
            "_model_module": "@jupyter-widgets/controls",
            "children": [
              "IPY_MODEL_fddbd00e704a4e73bd8e8f94c71f3a7f",
              "IPY_MODEL_50e387aa80bc4716b24528c76510f394"
            ]
          }
        },
        "0297015a7f8740f7a364f4f8ba43726c": {
          "model_module": "@jupyter-widgets/base",
          "model_name": "LayoutModel",
          "state": {
            "_view_name": "LayoutView",
            "grid_template_rows": null,
            "right": null,
            "justify_content": null,
            "_view_module": "@jupyter-widgets/base",
            "overflow": null,
            "_model_module_version": "1.2.0",
            "_view_count": null,
            "flex_flow": null,
            "width": null,
            "min_width": null,
            "border": null,
            "align_items": null,
            "bottom": null,
            "_model_module": "@jupyter-widgets/base",
            "top": null,
            "grid_column": null,
            "overflow_y": null,
            "overflow_x": null,
            "grid_auto_flow": null,
            "grid_area": null,
            "grid_template_columns": null,
            "flex": null,
            "_model_name": "LayoutModel",
            "justify_items": null,
            "grid_row": null,
            "max_height": null,
            "align_content": null,
            "visibility": null,
            "align_self": null,
            "height": null,
            "min_height": null,
            "padding": null,
            "grid_auto_rows": null,
            "grid_gap": null,
            "max_width": null,
            "order": null,
            "_view_module_version": "1.2.0",
            "grid_template_areas": null,
            "object_position": null,
            "object_fit": null,
            "grid_auto_columns": null,
            "margin": null,
            "display": null,
            "left": null
          }
        },
        "fddbd00e704a4e73bd8e8f94c71f3a7f": {
          "model_module": "@jupyter-widgets/controls",
          "model_name": "FloatProgressModel",
          "state": {
            "_view_name": "ProgressView",
            "style": "IPY_MODEL_4118021a75f749bca2a19465b3b239b6",
            "_dom_classes": [],
            "description": "Downloading: 100%",
            "_model_name": "FloatProgressModel",
            "bar_style": "success",
            "max": 445032417,
            "_view_module": "@jupyter-widgets/controls",
            "_model_module_version": "1.5.0",
            "value": 445032417,
            "_view_count": null,
            "_view_module_version": "1.5.0",
            "orientation": "horizontal",
            "min": 0,
            "description_tooltip": null,
            "_model_module": "@jupyter-widgets/controls",
            "layout": "IPY_MODEL_72ceec49ed41438e9e9fda999814257a"
          }
        },
        "50e387aa80bc4716b24528c76510f394": {
          "model_module": "@jupyter-widgets/controls",
          "model_name": "HTMLModel",
          "state": {
            "_view_name": "HTMLView",
            "style": "IPY_MODEL_dd02327154a4433aa9c0538d9ae2ccd6",
            "_dom_classes": [],
            "description": "",
            "_model_name": "HTMLModel",
            "placeholder": "​",
            "_view_module": "@jupyter-widgets/controls",
            "_model_module_version": "1.5.0",
            "value": " 445M/445M [00:07&lt;00:00, 58.7MB/s]",
            "_view_count": null,
            "_view_module_version": "1.5.0",
            "description_tooltip": null,
            "_model_module": "@jupyter-widgets/controls",
            "layout": "IPY_MODEL_88ead7d60d5542ef8aaf867aa70d3951"
          }
        },
        "4118021a75f749bca2a19465b3b239b6": {
          "model_module": "@jupyter-widgets/controls",
          "model_name": "ProgressStyleModel",
          "state": {
            "_view_name": "StyleView",
            "_model_name": "ProgressStyleModel",
            "description_width": "initial",
            "_view_module": "@jupyter-widgets/base",
            "_model_module_version": "1.5.0",
            "_view_count": null,
            "_view_module_version": "1.2.0",
            "bar_color": null,
            "_model_module": "@jupyter-widgets/controls"
          }
        },
        "72ceec49ed41438e9e9fda999814257a": {
          "model_module": "@jupyter-widgets/base",
          "model_name": "LayoutModel",
          "state": {
            "_view_name": "LayoutView",
            "grid_template_rows": null,
            "right": null,
            "justify_content": null,
            "_view_module": "@jupyter-widgets/base",
            "overflow": null,
            "_model_module_version": "1.2.0",
            "_view_count": null,
            "flex_flow": null,
            "width": null,
            "min_width": null,
            "border": null,
            "align_items": null,
            "bottom": null,
            "_model_module": "@jupyter-widgets/base",
            "top": null,
            "grid_column": null,
            "overflow_y": null,
            "overflow_x": null,
            "grid_auto_flow": null,
            "grid_area": null,
            "grid_template_columns": null,
            "flex": null,
            "_model_name": "LayoutModel",
            "justify_items": null,
            "grid_row": null,
            "max_height": null,
            "align_content": null,
            "visibility": null,
            "align_self": null,
            "height": null,
            "min_height": null,
            "padding": null,
            "grid_auto_rows": null,
            "grid_gap": null,
            "max_width": null,
            "order": null,
            "_view_module_version": "1.2.0",
            "grid_template_areas": null,
            "object_position": null,
            "object_fit": null,
            "grid_auto_columns": null,
            "margin": null,
            "display": null,
            "left": null
          }
        },
        "dd02327154a4433aa9c0538d9ae2ccd6": {
          "model_module": "@jupyter-widgets/controls",
          "model_name": "DescriptionStyleModel",
          "state": {
            "_view_name": "StyleView",
            "_model_name": "DescriptionStyleModel",
            "description_width": "",
            "_view_module": "@jupyter-widgets/base",
            "_model_module_version": "1.5.0",
            "_view_count": null,
            "_view_module_version": "1.2.0",
            "_model_module": "@jupyter-widgets/controls"
          }
        },
        "88ead7d60d5542ef8aaf867aa70d3951": {
          "model_module": "@jupyter-widgets/base",
          "model_name": "LayoutModel",
          "state": {
            "_view_name": "LayoutView",
            "grid_template_rows": null,
            "right": null,
            "justify_content": null,
            "_view_module": "@jupyter-widgets/base",
            "overflow": null,
            "_model_module_version": "1.2.0",
            "_view_count": null,
            "flex_flow": null,
            "width": null,
            "min_width": null,
            "border": null,
            "align_items": null,
            "bottom": null,
            "_model_module": "@jupyter-widgets/base",
            "top": null,
            "grid_column": null,
            "overflow_y": null,
            "overflow_x": null,
            "grid_auto_flow": null,
            "grid_area": null,
            "grid_template_columns": null,
            "flex": null,
            "_model_name": "LayoutModel",
            "justify_items": null,
            "grid_row": null,
            "max_height": null,
            "align_content": null,
            "visibility": null,
            "align_self": null,
            "height": null,
            "min_height": null,
            "padding": null,
            "grid_auto_rows": null,
            "grid_gap": null,
            "max_width": null,
            "order": null,
            "_view_module_version": "1.2.0",
            "grid_template_areas": null,
            "object_position": null,
            "object_fit": null,
            "grid_auto_columns": null,
            "margin": null,
            "display": null,
            "left": null
          }
        }
      }
    }
  },
  "cells": [
    {
      "cell_type": "markdown",
      "metadata": {
        "id": "view-in-github",
        "colab_type": "text"
      },
      "source": [
        "<a href=\"https://colab.research.google.com/github/greyhound101/multilingial/blob/master/camembert.ipynb\" target=\"_parent\"><img src=\"https://colab.research.google.com/assets/colab-badge.svg\" alt=\"Open In Colab\"/></a>"
      ]
    },
    {
      "cell_type": "code",
      "metadata": {
        "colab": {
          "base_uri": "https://localhost:8080/"
        },
        "id": "nScyTQg5WlR9",
        "outputId": "1e3367ee-5ccb-4345-934f-ce9cf76a6305"
      },
      "source": [
        "pip install transformers"
      ],
      "execution_count": 1,
      "outputs": [
        {
          "output_type": "stream",
          "text": [
            "Collecting transformers\n",
            "\u001b[?25l  Downloading https://files.pythonhosted.org/packages/cd/40/866cbfac4601e0f74c7303d533a9c5d4a53858bd402e08e3e294dd271f25/transformers-4.2.1-py3-none-any.whl (1.8MB)\n",
            "\u001b[K     |████████████████████████████████| 1.8MB 7.9MB/s \n",
            "\u001b[?25hRequirement already satisfied: requests in /usr/local/lib/python3.6/dist-packages (from transformers) (2.23.0)\n",
            "Requirement already satisfied: regex!=2019.12.17 in /usr/local/lib/python3.6/dist-packages (from transformers) (2019.12.20)\n",
            "Requirement already satisfied: filelock in /usr/local/lib/python3.6/dist-packages (from transformers) (3.0.12)\n",
            "Collecting tokenizers==0.9.4\n",
            "\u001b[?25l  Downloading https://files.pythonhosted.org/packages/0f/1c/e789a8b12e28be5bc1ce2156cf87cb522b379be9cadc7ad8091a4cc107c4/tokenizers-0.9.4-cp36-cp36m-manylinux2010_x86_64.whl (2.9MB)\n",
            "\u001b[K     |████████████████████████████████| 2.9MB 50.2MB/s \n",
            "\u001b[?25hCollecting sacremoses\n",
            "\u001b[?25l  Downloading https://files.pythonhosted.org/packages/7d/34/09d19aff26edcc8eb2a01bed8e98f13a1537005d31e95233fd48216eed10/sacremoses-0.0.43.tar.gz (883kB)\n",
            "\u001b[K     |████████████████████████████████| 890kB 45.6MB/s \n",
            "\u001b[?25hRequirement already satisfied: packaging in /usr/local/lib/python3.6/dist-packages (from transformers) (20.8)\n",
            "Requirement already satisfied: numpy in /usr/local/lib/python3.6/dist-packages (from transformers) (1.19.5)\n",
            "Requirement already satisfied: dataclasses; python_version < \"3.7\" in /usr/local/lib/python3.6/dist-packages (from transformers) (0.8)\n",
            "Requirement already satisfied: tqdm>=4.27 in /usr/local/lib/python3.6/dist-packages (from transformers) (4.41.1)\n",
            "Requirement already satisfied: importlib-metadata; python_version < \"3.8\" in /usr/local/lib/python3.6/dist-packages (from transformers) (3.3.0)\n",
            "Requirement already satisfied: urllib3!=1.25.0,!=1.25.1,<1.26,>=1.21.1 in /usr/local/lib/python3.6/dist-packages (from requests->transformers) (1.24.3)\n",
            "Requirement already satisfied: certifi>=2017.4.17 in /usr/local/lib/python3.6/dist-packages (from requests->transformers) (2020.12.5)\n",
            "Requirement already satisfied: chardet<4,>=3.0.2 in /usr/local/lib/python3.6/dist-packages (from requests->transformers) (3.0.4)\n",
            "Requirement already satisfied: idna<3,>=2.5 in /usr/local/lib/python3.6/dist-packages (from requests->transformers) (2.10)\n",
            "Requirement already satisfied: six in /usr/local/lib/python3.6/dist-packages (from sacremoses->transformers) (1.15.0)\n",
            "Requirement already satisfied: click in /usr/local/lib/python3.6/dist-packages (from sacremoses->transformers) (7.1.2)\n",
            "Requirement already satisfied: joblib in /usr/local/lib/python3.6/dist-packages (from sacremoses->transformers) (1.0.0)\n",
            "Requirement already satisfied: pyparsing>=2.0.2 in /usr/local/lib/python3.6/dist-packages (from packaging->transformers) (2.4.7)\n",
            "Requirement already satisfied: zipp>=0.5 in /usr/local/lib/python3.6/dist-packages (from importlib-metadata; python_version < \"3.8\"->transformers) (3.4.0)\n",
            "Requirement already satisfied: typing-extensions>=3.6.4; python_version < \"3.8\" in /usr/local/lib/python3.6/dist-packages (from importlib-metadata; python_version < \"3.8\"->transformers) (3.7.4.3)\n",
            "Building wheels for collected packages: sacremoses\n",
            "  Building wheel for sacremoses (setup.py) ... \u001b[?25l\u001b[?25hdone\n",
            "  Created wheel for sacremoses: filename=sacremoses-0.0.43-cp36-none-any.whl size=893261 sha256=9a59bda67d3ef3cefe3529b33d18b2b8998800cf9a26b88f1749ab72a4a4860a\n",
            "  Stored in directory: /root/.cache/pip/wheels/29/3c/fd/7ce5c3f0666dab31a50123635e6fb5e19ceb42ce38d4e58f45\n",
            "Successfully built sacremoses\n",
            "Installing collected packages: tokenizers, sacremoses, transformers\n",
            "Successfully installed sacremoses-0.0.43 tokenizers-0.9.4 transformers-4.2.1\n"
          ],
          "name": "stdout"
        }
      ]
    },
    {
      "cell_type": "code",
      "metadata": {
        "colab": {
          "base_uri": "https://localhost:8080/"
        },
        "id": "gDhqoMDZWlO5",
        "outputId": "9abbf910-e2bc-465f-d168-d602135232ad"
      },
      "source": [
        "pip install sentencepiece"
      ],
      "execution_count": 2,
      "outputs": [
        {
          "output_type": "stream",
          "text": [
            "Collecting sentencepiece\n",
            "\u001b[?25l  Downloading https://files.pythonhosted.org/packages/14/67/e42bd1181472c95c8cda79305df848264f2a7f62740995a46945d9797b67/sentencepiece-0.1.95-cp36-cp36m-manylinux2014_x86_64.whl (1.2MB)\n",
            "\r\u001b[K     |▎                               | 10kB 11.0MB/s eta 0:00:01\r\u001b[K     |▌                               | 20kB 16.3MB/s eta 0:00:01\r\u001b[K     |▉                               | 30kB 20.2MB/s eta 0:00:01\r\u001b[K     |█                               | 40kB 10.7MB/s eta 0:00:01\r\u001b[K     |█▍                              | 51kB 8.0MB/s eta 0:00:01\r\u001b[K     |█▋                              | 61kB 7.2MB/s eta 0:00:01\r\u001b[K     |██                              | 71kB 8.1MB/s eta 0:00:01\r\u001b[K     |██▏                             | 81kB 8.8MB/s eta 0:00:01\r\u001b[K     |██▌                             | 92kB 8.2MB/s eta 0:00:01\r\u001b[K     |██▊                             | 102kB 7.3MB/s eta 0:00:01\r\u001b[K     |███                             | 112kB 7.3MB/s eta 0:00:01\r\u001b[K     |███▎                            | 122kB 7.3MB/s eta 0:00:01\r\u001b[K     |███▌                            | 133kB 7.3MB/s eta 0:00:01\r\u001b[K     |███▉                            | 143kB 7.3MB/s eta 0:00:01\r\u001b[K     |████                            | 153kB 7.3MB/s eta 0:00:01\r\u001b[K     |████▍                           | 163kB 7.3MB/s eta 0:00:01\r\u001b[K     |████▋                           | 174kB 7.3MB/s eta 0:00:01\r\u001b[K     |█████                           | 184kB 7.3MB/s eta 0:00:01\r\u001b[K     |█████▏                          | 194kB 7.3MB/s eta 0:00:01\r\u001b[K     |█████▌                          | 204kB 7.3MB/s eta 0:00:01\r\u001b[K     |█████▊                          | 215kB 7.3MB/s eta 0:00:01\r\u001b[K     |██████                          | 225kB 7.3MB/s eta 0:00:01\r\u001b[K     |██████▎                         | 235kB 7.3MB/s eta 0:00:01\r\u001b[K     |██████▌                         | 245kB 7.3MB/s eta 0:00:01\r\u001b[K     |██████▉                         | 256kB 7.3MB/s eta 0:00:01\r\u001b[K     |███████                         | 266kB 7.3MB/s eta 0:00:01\r\u001b[K     |███████▍                        | 276kB 7.3MB/s eta 0:00:01\r\u001b[K     |███████▋                        | 286kB 7.3MB/s eta 0:00:01\r\u001b[K     |████████                        | 296kB 7.3MB/s eta 0:00:01\r\u001b[K     |████████▏                       | 307kB 7.3MB/s eta 0:00:01\r\u001b[K     |████████▍                       | 317kB 7.3MB/s eta 0:00:01\r\u001b[K     |████████▊                       | 327kB 7.3MB/s eta 0:00:01\r\u001b[K     |█████████                       | 337kB 7.3MB/s eta 0:00:01\r\u001b[K     |█████████▎                      | 348kB 7.3MB/s eta 0:00:01\r\u001b[K     |█████████▌                      | 358kB 7.3MB/s eta 0:00:01\r\u001b[K     |█████████▉                      | 368kB 7.3MB/s eta 0:00:01\r\u001b[K     |██████████                      | 378kB 7.3MB/s eta 0:00:01\r\u001b[K     |██████████▍                     | 389kB 7.3MB/s eta 0:00:01\r\u001b[K     |██████████▋                     | 399kB 7.3MB/s eta 0:00:01\r\u001b[K     |███████████                     | 409kB 7.3MB/s eta 0:00:01\r\u001b[K     |███████████▏                    | 419kB 7.3MB/s eta 0:00:01\r\u001b[K     |███████████▍                    | 430kB 7.3MB/s eta 0:00:01\r\u001b[K     |███████████▊                    | 440kB 7.3MB/s eta 0:00:01\r\u001b[K     |████████████                    | 450kB 7.3MB/s eta 0:00:01\r\u001b[K     |████████████▎                   | 460kB 7.3MB/s eta 0:00:01\r\u001b[K     |████████████▌                   | 471kB 7.3MB/s eta 0:00:01\r\u001b[K     |████████████▉                   | 481kB 7.3MB/s eta 0:00:01\r\u001b[K     |█████████████                   | 491kB 7.3MB/s eta 0:00:01\r\u001b[K     |█████████████▍                  | 501kB 7.3MB/s eta 0:00:01\r\u001b[K     |█████████████▋                  | 512kB 7.3MB/s eta 0:00:01\r\u001b[K     |█████████████▉                  | 522kB 7.3MB/s eta 0:00:01\r\u001b[K     |██████████████▏                 | 532kB 7.3MB/s eta 0:00:01\r\u001b[K     |██████████████▍                 | 542kB 7.3MB/s eta 0:00:01\r\u001b[K     |██████████████▊                 | 552kB 7.3MB/s eta 0:00:01\r\u001b[K     |███████████████                 | 563kB 7.3MB/s eta 0:00:01\r\u001b[K     |███████████████▎                | 573kB 7.3MB/s eta 0:00:01\r\u001b[K     |███████████████▌                | 583kB 7.3MB/s eta 0:00:01\r\u001b[K     |███████████████▉                | 593kB 7.3MB/s eta 0:00:01\r\u001b[K     |████████████████                | 604kB 7.3MB/s eta 0:00:01\r\u001b[K     |████████████████▍               | 614kB 7.3MB/s eta 0:00:01\r\u001b[K     |████████████████▋               | 624kB 7.3MB/s eta 0:00:01\r\u001b[K     |████████████████▉               | 634kB 7.3MB/s eta 0:00:01\r\u001b[K     |█████████████████▏              | 645kB 7.3MB/s eta 0:00:01\r\u001b[K     |█████████████████▍              | 655kB 7.3MB/s eta 0:00:01\r\u001b[K     |█████████████████▊              | 665kB 7.3MB/s eta 0:00:01\r\u001b[K     |██████████████████              | 675kB 7.3MB/s eta 0:00:01\r\u001b[K     |██████████████████▎             | 686kB 7.3MB/s eta 0:00:01\r\u001b[K     |██████████████████▌             | 696kB 7.3MB/s eta 0:00:01\r\u001b[K     |██████████████████▉             | 706kB 7.3MB/s eta 0:00:01\r\u001b[K     |███████████████████             | 716kB 7.3MB/s eta 0:00:01\r\u001b[K     |███████████████████▎            | 727kB 7.3MB/s eta 0:00:01\r\u001b[K     |███████████████████▋            | 737kB 7.3MB/s eta 0:00:01\r\u001b[K     |███████████████████▉            | 747kB 7.3MB/s eta 0:00:01\r\u001b[K     |████████████████████▏           | 757kB 7.3MB/s eta 0:00:01\r\u001b[K     |████████████████████▍           | 768kB 7.3MB/s eta 0:00:01\r\u001b[K     |████████████████████▊           | 778kB 7.3MB/s eta 0:00:01\r\u001b[K     |█████████████████████           | 788kB 7.3MB/s eta 0:00:01\r\u001b[K     |█████████████████████▎          | 798kB 7.3MB/s eta 0:00:01\r\u001b[K     |█████████████████████▌          | 808kB 7.3MB/s eta 0:00:01\r\u001b[K     |█████████████████████▉          | 819kB 7.3MB/s eta 0:00:01\r\u001b[K     |██████████████████████          | 829kB 7.3MB/s eta 0:00:01\r\u001b[K     |██████████████████████▎         | 839kB 7.3MB/s eta 0:00:01\r\u001b[K     |██████████████████████▋         | 849kB 7.3MB/s eta 0:00:01\r\u001b[K     |██████████████████████▉         | 860kB 7.3MB/s eta 0:00:01\r\u001b[K     |███████████████████████▏        | 870kB 7.3MB/s eta 0:00:01\r\u001b[K     |███████████████████████▍        | 880kB 7.3MB/s eta 0:00:01\r\u001b[K     |███████████████████████▊        | 890kB 7.3MB/s eta 0:00:01\r\u001b[K     |████████████████████████        | 901kB 7.3MB/s eta 0:00:01\r\u001b[K     |████████████████████████▎       | 911kB 7.3MB/s eta 0:00:01\r\u001b[K     |████████████████████████▌       | 921kB 7.3MB/s eta 0:00:01\r\u001b[K     |████████████████████████▊       | 931kB 7.3MB/s eta 0:00:01\r\u001b[K     |█████████████████████████       | 942kB 7.3MB/s eta 0:00:01\r\u001b[K     |█████████████████████████▎      | 952kB 7.3MB/s eta 0:00:01\r\u001b[K     |█████████████████████████▋      | 962kB 7.3MB/s eta 0:00:01\r\u001b[K     |█████████████████████████▉      | 972kB 7.3MB/s eta 0:00:01\r\u001b[K     |██████████████████████████▏     | 983kB 7.3MB/s eta 0:00:01\r\u001b[K     |██████████████████████████▍     | 993kB 7.3MB/s eta 0:00:01\r\u001b[K     |██████████████████████████▊     | 1.0MB 7.3MB/s eta 0:00:01\r\u001b[K     |███████████████████████████     | 1.0MB 7.3MB/s eta 0:00:01\r\u001b[K     |███████████████████████████▎    | 1.0MB 7.3MB/s eta 0:00:01\r\u001b[K     |███████████████████████████▌    | 1.0MB 7.3MB/s eta 0:00:01\r\u001b[K     |███████████████████████████▊    | 1.0MB 7.3MB/s eta 0:00:01\r\u001b[K     |████████████████████████████    | 1.1MB 7.3MB/s eta 0:00:01\r\u001b[K     |████████████████████████████▎   | 1.1MB 7.3MB/s eta 0:00:01\r\u001b[K     |████████████████████████████▋   | 1.1MB 7.3MB/s eta 0:00:01\r\u001b[K     |████████████████████████████▉   | 1.1MB 7.3MB/s eta 0:00:01\r\u001b[K     |█████████████████████████████▏  | 1.1MB 7.3MB/s eta 0:00:01\r\u001b[K     |█████████████████████████████▍  | 1.1MB 7.3MB/s eta 0:00:01\r\u001b[K     |█████████████████████████████▊  | 1.1MB 7.3MB/s eta 0:00:01\r\u001b[K     |██████████████████████████████  | 1.1MB 7.3MB/s eta 0:00:01\r\u001b[K     |██████████████████████████████▏ | 1.1MB 7.3MB/s eta 0:00:01\r\u001b[K     |██████████████████████████████▌ | 1.1MB 7.3MB/s eta 0:00:01\r\u001b[K     |██████████████████████████████▊ | 1.2MB 7.3MB/s eta 0:00:01\r\u001b[K     |███████████████████████████████ | 1.2MB 7.3MB/s eta 0:00:01\r\u001b[K     |███████████████████████████████▎| 1.2MB 7.3MB/s eta 0:00:01\r\u001b[K     |███████████████████████████████▋| 1.2MB 7.3MB/s eta 0:00:01\r\u001b[K     |███████████████████████████████▉| 1.2MB 7.3MB/s eta 0:00:01\r\u001b[K     |████████████████████████████████| 1.2MB 7.3MB/s \n",
            "\u001b[?25hInstalling collected packages: sentencepiece\n",
            "Successfully installed sentencepiece-0.1.95\n"
          ],
          "name": "stdout"
        }
      ]
    },
    {
      "cell_type": "code",
      "metadata": {
        "colab": {
          "base_uri": "https://localhost:8080/"
        },
        "id": "IpERPU1DWlMA",
        "outputId": "957a4964-9a3f-4628-8c7b-d41e3708547c"
      },
      "source": [
        "pip install wandb"
      ],
      "execution_count": 3,
      "outputs": [
        {
          "output_type": "stream",
          "text": [
            "Collecting wandb\n",
            "\u001b[?25l  Downloading https://files.pythonhosted.org/packages/57/07/f874b16aa864e01a3ed4051dda467a3a16fc9419dae549689800cfbb17dd/wandb-0.10.14-py2.py3-none-any.whl (1.9MB)\n",
            "\u001b[K     |████████████████████████████████| 1.9MB 8.4MB/s \n",
            "\u001b[?25hRequirement already satisfied: PyYAML in /usr/local/lib/python3.6/dist-packages (from wandb) (3.13)\n",
            "Requirement already satisfied: protobuf>=3.12.0 in /usr/local/lib/python3.6/dist-packages (from wandb) (3.12.4)\n",
            "Requirement already satisfied: psutil>=5.0.0 in /usr/local/lib/python3.6/dist-packages (from wandb) (5.4.8)\n",
            "Requirement already satisfied: six>=1.13.0 in /usr/local/lib/python3.6/dist-packages (from wandb) (1.15.0)\n",
            "Requirement already satisfied: python-dateutil>=2.6.1 in /usr/local/lib/python3.6/dist-packages (from wandb) (2.8.1)\n",
            "Collecting docker-pycreds>=0.4.0\n",
            "  Downloading https://files.pythonhosted.org/packages/f5/e8/f6bd1eee09314e7e6dee49cbe2c5e22314ccdb38db16c9fc72d2fa80d054/docker_pycreds-0.4.0-py2.py3-none-any.whl\n",
            "Collecting configparser>=3.8.1\n",
            "  Downloading https://files.pythonhosted.org/packages/08/b2/ef713e0e67f6e7ec7d59aea3ee78d05b39c15930057e724cc6d362a8c3bb/configparser-5.0.1-py3-none-any.whl\n",
            "Requirement already satisfied: promise<3,>=2.0 in /usr/local/lib/python3.6/dist-packages (from wandb) (2.3)\n",
            "Requirement already satisfied: requests<3,>=2.0.0 in /usr/local/lib/python3.6/dist-packages (from wandb) (2.23.0)\n",
            "Collecting GitPython>=1.0.0\n",
            "\u001b[?25l  Downloading https://files.pythonhosted.org/packages/d7/cb/ec98155c501b68dcb11314c7992cd3df6dce193fd763084338a117967d53/GitPython-3.1.12-py3-none-any.whl (159kB)\n",
            "\u001b[K     |████████████████████████████████| 163kB 27.1MB/s \n",
            "\u001b[?25hCollecting watchdog<0.10.5,>=0.8.3\n",
            "\u001b[?25l  Downloading https://files.pythonhosted.org/packages/6f/10/500580a0987363a0d9e1f3dd5cb1bba94a47e19266c6ce9dfb6cdd455758/watchdog-0.10.4.tar.gz (98kB)\n",
            "\u001b[K     |████████████████████████████████| 102kB 6.2MB/s \n",
            "\u001b[?25hCollecting subprocess32>=3.5.3\n",
            "\u001b[?25l  Downloading https://files.pythonhosted.org/packages/32/c8/564be4d12629b912ea431f1a50eb8b3b9d00f1a0b1ceff17f266be190007/subprocess32-3.5.4.tar.gz (97kB)\n",
            "\u001b[K     |████████████████████████████████| 102kB 6.5MB/s \n",
            "\u001b[?25hCollecting shortuuid>=0.5.0\n",
            "  Downloading https://files.pythonhosted.org/packages/25/a6/2ecc1daa6a304e7f1b216f0896b26156b78e7c38e1211e9b798b4716c53d/shortuuid-1.0.1-py3-none-any.whl\n",
            "Collecting sentry-sdk>=0.4.0\n",
            "\u001b[?25l  Downloading https://files.pythonhosted.org/packages/b1/5c/018bf9a5c24343a664deaea70e61f33f53bb1bd3caf193110f827bfd07e2/sentry_sdk-0.19.5-py2.py3-none-any.whl (128kB)\n",
            "\u001b[K     |████████████████████████████████| 133kB 22.6MB/s \n",
            "\u001b[?25hRequirement already satisfied: Click>=7.0 in /usr/local/lib/python3.6/dist-packages (from wandb) (7.1.2)\n",
            "Requirement already satisfied: setuptools in /usr/local/lib/python3.6/dist-packages (from protobuf>=3.12.0->wandb) (51.1.1)\n",
            "Requirement already satisfied: chardet<4,>=3.0.2 in /usr/local/lib/python3.6/dist-packages (from requests<3,>=2.0.0->wandb) (3.0.4)\n",
            "Requirement already satisfied: certifi>=2017.4.17 in /usr/local/lib/python3.6/dist-packages (from requests<3,>=2.0.0->wandb) (2020.12.5)\n",
            "Requirement already satisfied: urllib3!=1.25.0,!=1.25.1,<1.26,>=1.21.1 in /usr/local/lib/python3.6/dist-packages (from requests<3,>=2.0.0->wandb) (1.24.3)\n",
            "Requirement already satisfied: idna<3,>=2.5 in /usr/local/lib/python3.6/dist-packages (from requests<3,>=2.0.0->wandb) (2.10)\n",
            "Collecting gitdb<5,>=4.0.1\n",
            "\u001b[?25l  Downloading https://files.pythonhosted.org/packages/48/11/d1800bca0a3bae820b84b7d813ad1eff15a48a64caea9c823fc8c1b119e8/gitdb-4.0.5-py3-none-any.whl (63kB)\n",
            "\u001b[K     |████████████████████████████████| 71kB 5.8MB/s \n",
            "\u001b[?25hCollecting pathtools>=0.1.1\n",
            "  Downloading https://files.pythonhosted.org/packages/e7/7f/470d6fcdf23f9f3518f6b0b76be9df16dcc8630ad409947f8be2eb0ed13a/pathtools-0.1.2.tar.gz\n",
            "Collecting smmap<4,>=3.0.1\n",
            "  Downloading https://files.pythonhosted.org/packages/b0/9a/4d409a6234eb940e6a78dfdfc66156e7522262f5f2fecca07dc55915952d/smmap-3.0.4-py2.py3-none-any.whl\n",
            "Building wheels for collected packages: watchdog, subprocess32, pathtools\n",
            "  Building wheel for watchdog (setup.py) ... \u001b[?25l\u001b[?25hdone\n",
            "  Created wheel for watchdog: filename=watchdog-0.10.4-cp36-none-any.whl size=74842 sha256=98c59d456730384813272ecfe941bc3fb0575e934f1e1cb7b0d83324113f364f\n",
            "  Stored in directory: /root/.cache/pip/wheels/9e/11/04/5160b8815b0cc7cf574bdc6d053e510169ec264c8791b4ec3a\n",
            "  Building wheel for subprocess32 (setup.py) ... \u001b[?25l\u001b[?25hdone\n",
            "  Created wheel for subprocess32: filename=subprocess32-3.5.4-cp36-none-any.whl size=6490 sha256=a6d4514cc6166c394ed5838d341086fde424e78e1e3b2d65068f038776835212\n",
            "  Stored in directory: /root/.cache/pip/wheels/68/39/1a/5e402bdfdf004af1786c8b853fd92f8c4a04f22aad179654d1\n",
            "  Building wheel for pathtools (setup.py) ... \u001b[?25l\u001b[?25hdone\n",
            "  Created wheel for pathtools: filename=pathtools-0.1.2-cp36-none-any.whl size=8785 sha256=d53bcc39ca00ac2adc9a1a4ee4f4e2e08b310784c38f6975102464a9701e5b9f\n",
            "  Stored in directory: /root/.cache/pip/wheels/0b/04/79/c3b0c3a0266a3cb4376da31e5bfe8bba0c489246968a68e843\n",
            "Successfully built watchdog subprocess32 pathtools\n",
            "Installing collected packages: docker-pycreds, configparser, smmap, gitdb, GitPython, pathtools, watchdog, subprocess32, shortuuid, sentry-sdk, wandb\n",
            "Successfully installed GitPython-3.1.12 configparser-5.0.1 docker-pycreds-0.4.0 gitdb-4.0.5 pathtools-0.1.2 sentry-sdk-0.19.5 shortuuid-1.0.1 smmap-3.0.4 subprocess32-3.5.4 wandb-0.10.14 watchdog-0.10.4\n"
          ],
          "name": "stdout"
        }
      ]
    },
    {
      "cell_type": "code",
      "metadata": {
        "id": "uuBsLjaEWj0W"
      },
      "source": [
        "\r\n",
        "import logging\r\n",
        "import os\r\n",
        "import random\r\n",
        "import time\r\n",
        "from dataclasses import dataclass, field\r\n",
        "from typing import Dict, Optional\r\n",
        "from typing import List\r\n",
        "\r\n",
        "import numpy as np\r\n",
        "import torch\r\n",
        "from torch.utils.data.dataset import Dataset, IterableDataset\r\n",
        "from torch.utils.tensorboard import SummaryWriter\r\n",
        "from transformers import AutoTokenizer, EvalPrediction, Trainer, HfArgumentParser, TrainingArguments, \\\r\n",
        "    AutoModelForSequenceClassification, set_seed, AutoConfig\r\n",
        "from transformers import PreTrainedTokenizer, DataCollator, PreTrainedModel\r\n",
        "import wandb"
      ],
      "execution_count": 4,
      "outputs": []
    },
    {
      "cell_type": "code",
      "metadata": {
        "colab": {
          "base_uri": "https://localhost:8080/",
          "height": 232,
          "referenced_widgets": [
            "49b7a415cdee43c0aa0e87918d48fb6d",
            "fc1733d3227a47128b5ccada120bac49",
            "164ac4ccf32f4966a1d437f042f8b0cc",
            "0eade495e41e48cf800b215e046bb7f0",
            "bb496653801c4578a9d1d24013a72d6f",
            "b00224746eae4f998319276a5da9a9df",
            "eac79f3fe6bc4a0185949bcf0089851d",
            "894ab7a330e14f8d9645de9fefd65a86",
            "37c14e68fe964ae1baa2063a47de6766",
            "0297015a7f8740f7a364f4f8ba43726c",
            "fddbd00e704a4e73bd8e8f94c71f3a7f",
            "50e387aa80bc4716b24528c76510f394",
            "4118021a75f749bca2a19465b3b239b6",
            "72ceec49ed41438e9e9fda999814257a",
            "dd02327154a4433aa9c0538d9ae2ccd6",
            "88ead7d60d5542ef8aaf867aa70d3951"
          ]
        },
        "id": "GTSKRUZ6Uidt",
        "outputId": "71975b32-05aa-400a-87cc-7d835dadd938"
      },
      "source": [
        "def load_transformers_model(pretrained_model_name_or_path,\r\n",
        "                            use_cuda,\r\n",
        "                            mixed_precision):\r\n",
        "    config = AutoConfig.from_pretrained(pretrained_model_name_or_path=pretrained_model_name_or_path,\r\n",
        "                                        num_labels=3)\r\n",
        "    model = AutoModelForSequenceClassification.from_pretrained(\r\n",
        "        pretrained_model_name_or_path=pretrained_model_name_or_path,\r\n",
        "        config=config)\r\n",
        "    if use_cuda and torch.cuda.is_available():\r\n",
        "        device = torch.device('cuda')\r\n",
        "        model.to(device)\r\n",
        "\r\n",
        "    if mixed_precision:\r\n",
        "        try:\r\n",
        "            from apex import amp\r\n",
        "            model = amp.initialize(model, opt_level='O1')\r\n",
        "        except ImportError:\r\n",
        "            raise ImportError(\"Please install apex from https://www.github.com/nvidia/apex to use fp16 training.\")\r\n",
        "    return model\r\n",
        "model = load_transformers_model(pretrained_model_name_or_path=\"camembert-base\",\r\n",
        "                                    use_cuda=True,\r\n",
        "                                    mixed_precision=False)"
      ],
      "execution_count": 5,
      "outputs": [
        {
          "output_type": "display_data",
          "data": {
            "application/vnd.jupyter.widget-view+json": {
              "model_id": "49b7a415cdee43c0aa0e87918d48fb6d",
              "version_minor": 0,
              "version_major": 2
            },
            "text/plain": [
              "HBox(children=(FloatProgress(value=0.0, description='Downloading', max=508.0, style=ProgressStyle(description_…"
            ]
          },
          "metadata": {
            "tags": []
          }
        },
        {
          "output_type": "stream",
          "text": [
            "\n"
          ],
          "name": "stdout"
        },
        {
          "output_type": "display_data",
          "data": {
            "application/vnd.jupyter.widget-view+json": {
              "model_id": "37c14e68fe964ae1baa2063a47de6766",
              "version_minor": 0,
              "version_major": 2
            },
            "text/plain": [
              "HBox(children=(FloatProgress(value=0.0, description='Downloading', max=445032417.0, style=ProgressStyle(descri…"
            ]
          },
          "metadata": {
            "tags": []
          }
        },
        {
          "output_type": "stream",
          "text": [
            "\n"
          ],
          "name": "stdout"
        },
        {
          "output_type": "stream",
          "text": [
            "Some weights of the model checkpoint at camembert-base were not used when initializing CamembertForSequenceClassification: ['lm_head.bias', 'lm_head.dense.weight', 'lm_head.dense.bias', 'lm_head.layer_norm.weight', 'lm_head.layer_norm.bias', 'lm_head.decoder.weight', 'roberta.pooler.dense.weight', 'roberta.pooler.dense.bias']\n",
            "- This IS expected if you are initializing CamembertForSequenceClassification from the checkpoint of a model trained on another task or with another architecture (e.g. initializing a BertForSequenceClassification model from a BertForPreTraining model).\n",
            "- This IS NOT expected if you are initializing CamembertForSequenceClassification from the checkpoint of a model that you expect to be exactly identical (initializing a BertForSequenceClassification model from a BertForSequenceClassification model).\n",
            "Some weights of CamembertForSequenceClassification were not initialized from the model checkpoint at camembert-base and are newly initialized: ['classifier.dense.weight', 'classifier.dense.bias', 'classifier.out_proj.weight', 'classifier.out_proj.bias']\n",
            "You should probably TRAIN this model on a down-stream task to be able to use it for predictions and inference.\n"
          ],
          "name": "stderr"
        }
      ]
    },
    {
      "cell_type": "code",
      "metadata": {
        "colab": {
          "base_uri": "https://localhost:8080/"
        },
        "id": "SMpE2DsuaxN8",
        "outputId": "c3f65d0e-6f6d-4e5c-d882-61d4c21031a9"
      },
      "source": [
        "TF_MODEL_MAPPING"
      ],
      "execution_count": 19,
      "outputs": [
        {
          "output_type": "execute_result",
          "data": {
            "text/plain": [
              "transformers.models.camembert.modeling_camembert.CamembertForSequenceClassification"
            ]
          },
          "metadata": {
            "tags": []
          },
          "execution_count": 19
        }
      ]
    },
    {
      "cell_type": "code",
      "metadata": {
        "colab": {
          "base_uri": "https://localhost:8080/"
        },
        "id": "PVTq5nbhW7Ki",
        "outputId": "a15ea0d3-484a-4b11-9710-67ff6278a5d6"
      },
      "source": [
        "\r\n",
        "from transformers import TFAutoModel, AutoTokenizer\r\n",
        "MODEL = 'jplu/tf-camembert-base'\r\n",
        "transformer_layer=TFAutoModel.from_pretrained(MODEL)\r\n",
        "type(transformer_layer)"
      ],
      "execution_count": 28,
      "outputs": [
        {
          "output_type": "stream",
          "text": [
            "Some layers from the model checkpoint at jplu/tf-camembert-base were not used when initializing TFCamembertModel: ['lm_head']\n",
            "- This IS expected if you are initializing TFCamembertModel from the checkpoint of a model trained on another task or with another architecture (e.g. initializing a BertForSequenceClassification model from a BertForPreTraining model).\n",
            "- This IS NOT expected if you are initializing TFCamembertModel from the checkpoint of a model that you expect to be exactly identical (initializing a BertForSequenceClassification model from a BertForSequenceClassification model).\n",
            "All the layers of TFCamembertModel were initialized from the model checkpoint at jplu/tf-camembert-base.\n",
            "If your task is similar to the task the model of the checkpoint was trained on, you can already use TFCamembertModel for predictions without further training.\n"
          ],
          "name": "stderr"
        },
        {
          "output_type": "execute_result",
          "data": {
            "text/plain": [
              "transformers.models.camembert.modeling_tf_camembert.TFCamembertModel"
            ]
          },
          "metadata": {
            "tags": []
          },
          "execution_count": 28
        }
      ]
    },
    {
      "cell_type": "code",
      "metadata": {
        "colab": {
          "base_uri": "https://localhost:8080/"
        },
        "id": "AXYETxYqd3jH",
        "outputId": "3a659543-fd8c-49c7-ed40-41e553449b13"
      },
      "source": [
        "\r\n",
        "from transformers import TFAutoModel, AutoTokenizer\r\n",
        "MODEL = 'jplu/tf-xlm-roberta-large'\r\n",
        "transformer_layer=TFAutoModel.from_pretrained(MODEL)\r\n",
        "type(transformer_layer)"
      ],
      "execution_count": 25,
      "outputs": [
        {
          "output_type": "stream",
          "text": [
            "Some layers from the model checkpoint at jplu/tf-xlm-roberta-large were not used when initializing TFXLMRobertaModel: ['lm_head']\n",
            "- This IS expected if you are initializing TFXLMRobertaModel from the checkpoint of a model trained on another task or with another architecture (e.g. initializing a BertForSequenceClassification model from a BertForPreTraining model).\n",
            "- This IS NOT expected if you are initializing TFXLMRobertaModel from the checkpoint of a model that you expect to be exactly identical (initializing a BertForSequenceClassification model from a BertForSequenceClassification model).\n",
            "All the layers of TFXLMRobertaModel were initialized from the model checkpoint at jplu/tf-xlm-roberta-large.\n",
            "If your task is similar to the task the model of the checkpoint was trained on, you can already use TFXLMRobertaModel for predictions without further training.\n"
          ],
          "name": "stderr"
        },
        {
          "output_type": "execute_result",
          "data": {
            "text/plain": [
              "transformers.models.xlm_roberta.modeling_tf_xlm_roberta.TFXLMRobertaModel"
            ]
          },
          "metadata": {
            "tags": []
          },
          "execution_count": 25
        }
      ]
    }
  ]
}