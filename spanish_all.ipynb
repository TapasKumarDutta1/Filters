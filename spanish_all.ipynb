{
  "nbformat": 4,
  "nbformat_minor": 0,
  "metadata": {
    "colab": {
      "name": "spanish_all.ipynb",
      "provenance": [],
      "machine_shape": "hm",
      "include_colab_link": true
    },
    "kernelspec": {
      "name": "python3",
      "display_name": "Python 3"
    },
    "accelerator": "TPU"
  },
  "cells": [
    {
      "cell_type": "markdown",
      "metadata": {
        "id": "view-in-github",
        "colab_type": "text"
      },
      "source": [
        "<a href=\"https://colab.research.google.com/github/greyhound101/multilingial/blob/master/spanish_all.ipynb\" target=\"_parent\"><img src=\"https://colab.research.google.com/assets/colab-badge.svg\" alt=\"Open In Colab\"/></a>"
      ]
    },
    {
      "cell_type": "code",
      "metadata": {
        "id": "eQqlrXIJej1l",
        "colab": {
          "base_uri": "https://localhost:8080/"
        },
        "outputId": "dc0ae1c9-c1c8-4f88-9305-53e131b99aa0"
      },
      "source": [
        "from google.colab import drive\n",
        "drive.mount('/content/gdrive')\n",
        "drive.mount(\"/content/gdrive\", force_remount=True)"
      ],
      "execution_count": 1,
      "outputs": [
        {
          "output_type": "stream",
          "text": [
            "Drive already mounted at /content/gdrive; to attempt to forcibly remount, call drive.mount(\"/content/gdrive\", force_remount=True).\n",
            "Mounted at /content/gdrive\n"
          ],
          "name": "stdout"
        }
      ]
    },
    {
      "cell_type": "code",
      "metadata": {
        "id": "VV04VUZxKYQH",
        "colab": {
          "base_uri": "https://localhost:8080/"
        },
        "outputId": "1ad35c95-88f4-4e1e-e968-c2abb4f87ab5"
      },
      "source": [
        "pip install sentencepiece "
      ],
      "execution_count": 2,
      "outputs": [
        {
          "output_type": "stream",
          "text": [
            "Requirement already satisfied: sentencepiece in /usr/local/lib/python3.6/dist-packages (0.1.95)\n"
          ],
          "name": "stdout"
        }
      ]
    },
    {
      "cell_type": "code",
      "metadata": {
        "id": "_WXDyhihenRg",
        "colab": {
          "base_uri": "https://localhost:8080/"
        },
        "outputId": "3866382c-ef6a-436a-f88c-bb9465d5953f"
      },
      "source": [
        "pip install transformers"
      ],
      "execution_count": 3,
      "outputs": [
        {
          "output_type": "stream",
          "text": [
            "Requirement already satisfied: transformers in /usr/local/lib/python3.6/dist-packages (4.2.2)\n",
            "Requirement already satisfied: filelock in /usr/local/lib/python3.6/dist-packages (from transformers) (3.0.12)\n",
            "Requirement already satisfied: packaging in /usr/local/lib/python3.6/dist-packages (from transformers) (20.8)\n",
            "Requirement already satisfied: requests in /usr/local/lib/python3.6/dist-packages (from transformers) (2.23.0)\n",
            "Requirement already satisfied: regex!=2019.12.17 in /usr/local/lib/python3.6/dist-packages (from transformers) (2019.12.20)\n",
            "Requirement already satisfied: tqdm>=4.27 in /usr/local/lib/python3.6/dist-packages (from transformers) (4.41.1)\n",
            "Requirement already satisfied: sacremoses in /usr/local/lib/python3.6/dist-packages (from transformers) (0.0.43)\n",
            "Requirement already satisfied: tokenizers==0.9.4 in /usr/local/lib/python3.6/dist-packages (from transformers) (0.9.4)\n",
            "Requirement already satisfied: numpy in /usr/local/lib/python3.6/dist-packages (from transformers) (1.19.5)\n",
            "Requirement already satisfied: dataclasses; python_version < \"3.7\" in /usr/local/lib/python3.6/dist-packages (from transformers) (0.8)\n",
            "Requirement already satisfied: importlib-metadata; python_version < \"3.8\" in /usr/local/lib/python3.6/dist-packages (from transformers) (3.3.0)\n",
            "Requirement already satisfied: pyparsing>=2.0.2 in /usr/local/lib/python3.6/dist-packages (from packaging->transformers) (2.4.7)\n",
            "Requirement already satisfied: idna<3,>=2.5 in /usr/local/lib/python3.6/dist-packages (from requests->transformers) (2.10)\n",
            "Requirement already satisfied: certifi>=2017.4.17 in /usr/local/lib/python3.6/dist-packages (from requests->transformers) (2020.12.5)\n",
            "Requirement already satisfied: chardet<4,>=3.0.2 in /usr/local/lib/python3.6/dist-packages (from requests->transformers) (3.0.4)\n",
            "Requirement already satisfied: urllib3!=1.25.0,!=1.25.1,<1.26,>=1.21.1 in /usr/local/lib/python3.6/dist-packages (from requests->transformers) (1.24.3)\n",
            "Requirement already satisfied: six in /usr/local/lib/python3.6/dist-packages (from sacremoses->transformers) (1.15.0)\n",
            "Requirement already satisfied: click in /usr/local/lib/python3.6/dist-packages (from sacremoses->transformers) (7.1.2)\n",
            "Requirement already satisfied: joblib in /usr/local/lib/python3.6/dist-packages (from sacremoses->transformers) (1.0.0)\n",
            "Requirement already satisfied: zipp>=0.5 in /usr/local/lib/python3.6/dist-packages (from importlib-metadata; python_version < \"3.8\"->transformers) (3.4.0)\n",
            "Requirement already satisfied: typing-extensions>=3.6.4; python_version < \"3.8\" in /usr/local/lib/python3.6/dist-packages (from importlib-metadata; python_version < \"3.8\"->transformers) (3.7.4.3)\n"
          ],
          "name": "stdout"
        }
      ]
    },
    {
      "cell_type": "code",
      "metadata": {
        "id": "KQ_0F8Zfep7F",
        "colab": {
          "base_uri": "https://localhost:8080/"
        },
        "outputId": "7750d799-0901-4f44-9169-1c74209af9b3"
      },
      "source": [
        "!curl https://raw.githubusercontent.com/pytorch/xla/master/contrib/scripts/env-setup.py -o pytorch-xla-env-setup.py\n",
        "!python pytorch-xla-env-setup.py --version nightly --apt-packages libomp5 libopenblas-dev"
      ],
      "execution_count": 4,
      "outputs": [
        {
          "output_type": "stream",
          "text": [
            "  % Total    % Received % Xferd  Average Speed   Time    Time     Time  Current\n",
            "                                 Dload  Upload   Total   Spent    Left  Speed\n",
            "\r  0     0    0     0    0     0      0      0 --:--:-- --:--:-- --:--:--     0\r100  5116  100  5116    0     0   101k      0 --:--:-- --:--:-- --:--:--  101k\n",
            "Updating... This may take around 2 minutes.\n",
            "Updating TPU runtime to pytorch-nightly ...\n",
            "Uninstalling torch-1.8.0a0+unknown:\n",
            "  Successfully uninstalled torch-1.8.0a0+unknown\n",
            "Done updating TPU runtime\n",
            "Uninstalling torchvision-0.9.0a0+e617474:\n",
            "  Successfully uninstalled torchvision-0.9.0a0+e617474\n",
            "Copying gs://tpu-pytorch/wheels/torch-nightly-cp36-cp36m-linux_x86_64.whl...\n",
            "- [1 files][122.8 MiB/122.8 MiB]                                                \n",
            "Operation completed over 1 objects/122.8 MiB.                                    \n",
            "Copying gs://tpu-pytorch/wheels/torch_xla-nightly-cp36-cp36m-linux_x86_64.whl...\n",
            "| [1 files][131.1 MiB/131.1 MiB]                                                \n",
            "Operation completed over 1 objects/131.1 MiB.                                    \n",
            "Copying gs://tpu-pytorch/wheels/torchvision-nightly-cp36-cp36m-linux_x86_64.whl...\n",
            "/ [1 files][  4.9 MiB/  4.9 MiB]                                                \n",
            "Operation completed over 1 objects/4.9 MiB.                                      \n",
            "Processing ./torch-nightly-cp36-cp36m-linux_x86_64.whl\n",
            "Requirement already satisfied: dataclasses; python_version < \"3.7\" in /usr/local/lib/python3.6/dist-packages (from torch==nightly) (0.8)\n",
            "Requirement already satisfied: numpy in /usr/local/lib/python3.6/dist-packages (from torch==nightly) (1.19.5)\n",
            "Requirement already satisfied: typing-extensions in /usr/local/lib/python3.6/dist-packages (from torch==nightly) (3.7.4.3)\n",
            "\u001b[31mERROR: fastai 1.0.61 requires torchvision, which is not installed.\u001b[0m\n",
            "Installing collected packages: torch\n",
            "Successfully installed torch-1.8.0a0+unknown\n",
            "Processing ./torch_xla-nightly-cp36-cp36m-linux_x86_64.whl\n",
            "Installing collected packages: torch-xla\n",
            "  Found existing installation: torch-xla 1.6+8fa7b90\n",
            "    Uninstalling torch-xla-1.6+8fa7b90:\n",
            "      Successfully uninstalled torch-xla-1.6+8fa7b90\n",
            "Successfully installed torch-xla-1.6+8fa7b90\n",
            "Processing ./torchvision-nightly-cp36-cp36m-linux_x86_64.whl\n",
            "Requirement already satisfied: torch in /usr/local/lib/python3.6/dist-packages (from torchvision==nightly) (1.8.0a0+unknown)\n",
            "Requirement already satisfied: pillow>=4.1.1 in /usr/local/lib/python3.6/dist-packages (from torchvision==nightly) (7.0.0)\n",
            "Requirement already satisfied: numpy in /usr/local/lib/python3.6/dist-packages (from torchvision==nightly) (1.19.5)\n",
            "Requirement already satisfied: typing-extensions in /usr/local/lib/python3.6/dist-packages (from torch->torchvision==nightly) (3.7.4.3)\n",
            "Requirement already satisfied: dataclasses; python_version < \"3.7\" in /usr/local/lib/python3.6/dist-packages (from torch->torchvision==nightly) (0.8)\n",
            "Installing collected packages: torchvision\n",
            "Successfully installed torchvision-0.9.0a0+e617474\n",
            "Reading package lists... Done\n",
            "Building dependency tree       \n",
            "Reading state information... Done\n",
            "libomp5 is already the newest version (5.0.1-1).\n",
            "libopenblas-dev is already the newest version (0.2.20+ds-4).\n",
            "0 upgraded, 0 newly installed, 0 to remove and 12 not upgraded.\n"
          ],
          "name": "stdout"
        }
      ]
    },
    {
      "cell_type": "code",
      "metadata": {
        "id": "OauHZNZMerDG"
      },
      "source": [
        "import gc\n",
        "import os\n",
        "import time\n",
        "import math\n",
        "import random\n",
        "import warnings\n",
        "import numpy as np\n",
        "import pandas as pd\n",
        "import seaborn as sns\n",
        "import matplotlib.pyplot as plt\n",
        "\n",
        "from datetime import date\n",
        "from transformers import *\n",
        "from sklearn.metrics import *\n",
        "from tqdm.notebook import tqdm\n",
        "\n",
        "import torch\n",
        "import torch.nn as nn\n",
        "import torch.utils.data\n",
        "import torch.nn.functional as F\n",
        "\n",
        "import numpy as np\n",
        "from transformers import AutoTokenizer, AutoModel\n",
        "import torch.nn as nn\n",
        "from torch import Tensor\n",
        "from torch.optim import *\n",
        "from torch.nn.modules.loss import *\n",
        "from torch.optim.lr_scheduler import * \n",
        "from torch.utils.data import Dataset, DataLoader\n",
        "from torch.utils.data.sampler import RandomSampler\n",
        "import pandas as pd\n",
        "\n",
        "\n",
        "\n",
        "def regular_encode(texts, tokenizer, maxlen=192):\n",
        "    enc_di = tokenizer.batch_encode_plus(\n",
        "        texts, \n",
        "        return_token_type_ids=False,\n",
        "        pad_to_max_length=True,\n",
        "        max_length=maxlen\n",
        "    )\n",
        "    \n",
        "    return np.array(enc_di['input_ids'])\n",
        "\n",
        "class Transformer(nn.Module):\n",
        "    def __init__(self, transformer, num_classes=1):\n",
        "        \"\"\"\n",
        "        Constructor\n",
        "        \n",
        "        Arguments:\n",
        "            model {string} -- Transformer to build the model on. Expects \"camembert-base\".\n",
        "            num_classes {int} -- Number of classes (default: {1})\n",
        "        \"\"\"\n",
        "        super().__init__()\n",
        "        \n",
        "        self.transformer = transformer\n",
        "\n",
        "        self.nb_features = self.transformer.pooler.dense.out_features\n",
        "        # for param in self.transformer.parameters():\n",
        "        #   param.requires_grad = False\n",
        "        self.pooler = nn.Sequential(\n",
        "            nn.Linear(self.nb_features, num_classes), \n",
        "            nn.Sigmoid(),\n",
        "        )\n",
        "\n",
        "\n",
        "    def forward(self, tokens):\n",
        "        \"\"\"\n",
        "        Usual torch forward function\n",
        "        \n",
        "        Arguments:\n",
        "            tokens {torch tensor} -- Sentence tokens\n",
        "        \n",
        "        Returns:\n",
        "            torch tensor -- Class logits\n",
        "        \"\"\"\n",
        "        hidden_states = self.transformer(\n",
        "            tokens, attention_mask=(tokens > 0).long()\n",
        "        )[1]\n",
        "\n",
        "        # hidden_states = hidden_states[-1][:, 0] # Use the representation of the first token of the last layer\n",
        "\n",
        "        ft = self.pooler(hidden_states)\n",
        "\n",
        "        return ft\n"
      ],
      "execution_count": 5,
      "outputs": []
    },
    {
      "cell_type": "code",
      "metadata": {
        "id": "Mja2yCpAINM4"
      },
      "source": [
        "class bce(nn.Module):\n",
        "    def __init__(self, weight=None, size_average=True):\n",
        "        super(bce, self).__init__()\n",
        "\n",
        "    def forward(self, inputs, targets, smooth=1):\n",
        "        \n",
        "        #comment out if your model contains a sigmoid or equivalent activation layer\n",
        "        \n",
        "        #flatten label and prediction tensors\n",
        "        inputs = inputs.view(-1)\n",
        "        targets = targets.view(-1)\n",
        "        \n",
        "        one=(1-targets)*torch.log(1-inputs)\n",
        "        zero=(targets*torch.log(inputs))\n",
        "        loss = torch.mean((one+zero)*-1)\n",
        "        \n",
        "        return loss\n",
        "class JigsawDataset:\n",
        "    \"\"\"\n",
        "    Torch dataset for training and validating\n",
        "    \"\"\"\n",
        "    def __init__(self, x,y,is_test):\n",
        "        super().__init__()\n",
        "        self.y = y \n",
        "        self.is_test=is_test\n",
        "        self.sentences = x\n",
        "        \n",
        "\n",
        "    def __len__(self):\n",
        "        return self.sentences.shape[0]\n",
        "\n",
        "    def __getitem__(self, idx):\n",
        "      len=self.__len__()\n",
        "      if idx>len:\n",
        "        idx=idx%len\n",
        "      if self.is_test==0:\n",
        "        return torch.tensor(self.sentences[idx]), torch.tensor(self.y[idx]).float()\n",
        "      else:\n",
        "        return torch.tensor(self.sentences[idx])\n"
      ],
      "execution_count": 6,
      "outputs": []
    },
    {
      "cell_type": "code",
      "metadata": {
        "id": "Uo9D7_Mt01Qq"
      },
      "source": [
        "from sklearn.model_selection import train_test_split\n",
        "from statistics import mean\n",
        "import torch_xla\n",
        "from sklearn.preprocessing import *\n",
        "import torch_xla.debug.metrics as met\n",
        "import torch_xla.distributed.data_parallel as dp\n",
        "import torch_xla.distributed.parallel_loader as pl\n",
        "import torch_xla.utils.utils as xu\n",
        "import torch_xla.core.xla_model as xm\n",
        "import torch_xla.distributed.xla_multiprocessing as xmp\n",
        "import torch_xla.test.test_utils as test_utils\n",
        "import numpy as np # linear algebra\n",
        "import pandas as pd # data processing, CSV file I/O (e.g. pd.read_csv)\n",
        "import scipy as sp\n",
        "import gc\n",
        "import os\n",
        "import cv2\n",
        "import zipfile\n",
        "from pathlib import Path\n",
        "import random\n",
        "import argparse\n",
        "import sys\n",
        "from statistics import mean\n",
        "import yaml\n",
        "from tqdm.notebook import tqdm\n",
        "import time\n",
        "import albumentations as A\n",
        "from sklearn.model_selection import StratifiedKFold\n",
        "import random\n",
        "from sklearn.preprocessing import LabelEncoder\n",
        "import pandas as pd\n",
        "from typing import Dict\n",
        "from tempfile import gettempdir\n",
        "import matplotlib.pyplot as plt\n",
        "import numpy as np\n",
        "import pandas as pd\n",
        "import torch\n",
        "from torch import nn, optim\n",
        "from torch.utils.data import DataLoader\n",
        "from torchvision.models.resnet import resnet50, resnet18, resnet34, resnet101\n",
        "from tqdm import tqdm\n",
        "import seaborn as sns\n",
        "from matplotlib import pyplot as plt\n",
        "\n",
        "def train_all(train_loader, model, device, optimizer):\n",
        "    model.train()\n",
        "    # t = tqdm(train_loader, disable=not xm.is_master_ordinal())\n",
        "    model.train()\n",
        "    lss=bce()\n",
        "    loss1=[]\n",
        "    for step, (x, y_batch) in enumerate(train_loader): \n",
        "            \n",
        "            # x = x.to(device)\n",
        "            y_batch = y_batch.to(device)\n",
        "            y_pred = model(x)\n",
        "            \n",
        "            loss = lss(y_pred.view(-1).float(), y_batch.float())\n",
        "            loss.backward()\n",
        "            loss1.append(loss.item())\n",
        "            xm.optimizer_step(optimizer)\n",
        "            \n",
        "            model.zero_grad()\n",
        "    return mean(loss1)\n",
        "\n",
        "def valid_all(train_loader, model, device):\n",
        "    # t = tqdm(train_loader, disable=not xm.is_master_ordinal())\n",
        "    lss=bce()\n",
        "    loss1=[]\n",
        "    for step, (x, y_batch) in enumerate(train_loader): \n",
        "            \n",
        "            # x = x.to(device)\n",
        "            y_batch = y_batch.to(device)\n",
        "            y_pred = model(x)\n",
        "            \n",
        "            loss = lss(y_pred.view(-1).float(), y_batch.float())\n",
        "            loss1.append(loss.item())\n",
        "            \n",
        "    return mean(loss1)\n",
        "\n",
        "def predict_all(train_loader, model,device):\n",
        "    # t = tqdm(train_loader, disable=not xm.is_master_ordinal())\n",
        "    predict=[]\n",
        "    for step, (x) in tqdm(enumerate(train_loader)): \n",
        "            \n",
        "            y_pred = model(x.to(device))\n",
        "            predict.append(y_pred)\n",
        "            \n",
        "    return predict\n",
        "\n",
        "\n",
        "def load_data(lang):\n",
        "    with zipfile.ZipFile('/content/gdrive/My Drive/multilingual/jigsaw-toxic-comment-train-google-'+lang+'-cleaned.csv.zip', 'r') as zip_ref:\n",
        "      zip_ref.extractall('')\n",
        "    trn=pd.read_csv('/content/jigsaw-toxic-comment-train-google-'+lang+'-cleaned.csv',usecols=['toxic','comment_text'])\n",
        "    trn['lang']=lang\n",
        "    tst=pd.read_csv('/content/gdrive/My Drive/multilingual/test.csv.zip',usecols=['lang','content'])  \n",
        "    sub=pd.read_csv('/content/gdrive/My Drive/multilingual/submission.csv')\n",
        "    val=pd.read_csv( '/content/gdrive/My Drive/multilingual/validation.csv.zip',usecols=['lang','comment_text','toxic'])  \n",
        "    tst.columns=['comment_text','lang']\n",
        "    tst['toxic']=sub['toxic']\n",
        "    df=pd.concat([trn,tst,val],0)\n",
        "    return df.loc[df['lang']==lang].reset_index(drop=True).drop(['lang'],1)\n",
        "\n",
        "\n",
        "def get_lang(val,tst,lang):\n",
        "  df=pd.concat([val,tst],0)\n",
        "  return df.loc[df['lang']==lang].reset_index(drop=True).drop(['id','lang'],1)\n",
        "\n",
        "def main():\n",
        "    epochs=1\n",
        "    batch_size=16\n",
        "    learning_rate=1e-5\n",
        "    seed=42\n",
        "\n",
        "    # Setting seed\n",
        "    random.seed(seed)\n",
        "    np.random.seed(seed)\n",
        "    torch.manual_seed(seed)\n",
        "    torch.cuda.manual_seed(seed)\n",
        "    torch.backends.cudnn.deterministic = True\n",
        "\n",
        "    df=load_data('es')\n",
        "    tokenizer = AutoTokenizer.from_pretrained(\"dccuchile/bert-base-spanish-wwm-cased\")\n",
        "    x_train = regular_encode(list(df.comment_text.values), tokenizer, maxlen=192)\n",
        "    y_train = df.toxic.values\n",
        "    X_train, X_test, Y_train, Y_test = train_test_split(x_train, y_train, test_size=0.33, random_state=42)\n",
        "\n",
        "    idx=df.loc[(df['toxic']>0) & (df['toxic']<1)].index\n",
        "    test=x_train[idx]\n",
        "\n",
        "\n",
        "\n",
        "\n",
        "    def run():\n",
        "\n",
        "        torch.manual_seed(seed)\n",
        "\n",
        "        device = xm.xla_device()\n",
        "        model = AutoModel.from_pretrained(\"dccuchile/bert-base-spanish-wwm-cased\")\n",
        "        model=Transformer(model).to(device)\n",
        "\n",
        "\n",
        "        #Training\n",
        "        train_dataset = JigsawDataset(X_train,Y_train,0)\n",
        "\n",
        "\n",
        "        train_sampler = torch.utils.data.distributed.DistributedSampler(\n",
        "            train_dataset,\n",
        "            num_replicas=xm.xrt_world_size(),\n",
        "            rank=xm.get_ordinal(),\n",
        "            shuffle=False\n",
        "        )\n",
        "        train_loader = torch.utils.data.DataLoader(train_dataset,batch_size=batch_size,\n",
        "            sampler=train_sampler,\n",
        "            drop_last=False,\n",
        "            num_workers=2\n",
        "        )\n",
        "\n",
        "        \n",
        "\n",
        "        #Validation\n",
        "        validation_dataset = JigsawDataset(X_test,Y_test,0)\n",
        "\n",
        "\n",
        "        validation_sampler = torch.utils.data.distributed.DistributedSampler(\n",
        "            validation_dataset,\n",
        "            num_replicas=xm.xrt_world_size(),\n",
        "            rank=xm.get_ordinal(),\n",
        "            shuffle=False\n",
        "        )\n",
        "        validation_loader = torch.utils.data.DataLoader(validation_dataset,batch_size=batch_size,\n",
        "            sampler=validation_sampler,\n",
        "            drop_last=False,\n",
        "            num_workers=2\n",
        "        )\n",
        "\n",
        "\n",
        "\n",
        "\n",
        "        #test\n",
        "        test_dataset = JigsawDataset(test,None,1)\n",
        "\n",
        "\n",
        "        test_sampler = torch.utils.data.distributed.DistributedSampler(\n",
        "            test_dataset,\n",
        "            num_replicas=xm.xrt_world_size(),\n",
        "            rank=xm.get_ordinal(),\n",
        "            shuffle=False\n",
        "        )\n",
        "        test_loader = torch.utils.data.DataLoader(test_dataset,batch_size=batch_size,\n",
        "            sampler=test_sampler,\n",
        "            drop_last=False,\n",
        "            num_workers=2\n",
        "        )\n",
        "\n",
        "\n",
        "        optimizer = torch.optim.Adam(model.parameters(),lr=learning_rate * xm.xrt_world_size(),weight_decay=1e-3)\n",
        "\n",
        "\n",
        "        xm.master_print(\"Training is Starting ...... \")\n",
        "        total_loss=[]\n",
        "        valid_loss=[]\n",
        "        predictions=[]\n",
        "        for i in tqdm(range(3)):\n",
        "          para_loader = pl.ParallelLoader(train_loader, [device])\n",
        "          total_loss.append(train_all(para_loader.per_device_loader(device),model,device,optimizer))\n",
        "\n",
        "        \n",
        "        for i in tqdm(range(3)):\n",
        "          para_loader = pl.ParallelLoader(validation_loader, [device])\n",
        "          valid_loss.append(valid_all(para_loader.per_device_loader(device),model,device))\n",
        "\n",
        "\n",
        "\n",
        "        state = { 'state_dict': model.state_dict(),\n",
        "             'optimizer': optimizer.state_dict()}\n",
        "        xm.save(state, '/content/gdrive/My Drive/spanish')\n",
        "\n",
        "\n",
        "        np.save('loss.npy',total_loss)\n",
        "        np.save('valid.npy',valid_loss)\n",
        "            \n",
        "\n",
        "\n",
        "    def _mp_fn(rank, flags):\n",
        "        torch.set_default_tensor_type('torch.FloatTensor')\n",
        "        run()\n",
        "        \n",
        "    FLAGS={}\n",
        "    xmp.spawn(_mp_fn, args=(FLAGS,), nprocs=8, start_method='fork')"
      ],
      "execution_count": 7,
      "outputs": []
    },
    {
      "cell_type": "code",
      "metadata": {
        "id": "ES4W36q1Kz7Y",
        "colab": {
          "base_uri": "https://localhost:8080/"
        },
        "outputId": "fbb1394f-e151-459e-815e-bc801af8f6d5"
      },
      "source": [
        "main()"
      ],
      "execution_count": 8,
      "outputs": [
        {
          "output_type": "stream",
          "text": [
            "Truncation was not explicitly activated but `max_length` is provided a specific value, please use `truncation=True` to explicitly truncate examples to max length. Defaulting to 'longest_first' truncation strategy. If you encode pairs of sequences (GLUE-style) with the tokenizer you can select this strategy more precisely by providing a specific strategy to `truncation`.\n",
            "/usr/local/lib/python3.6/dist-packages/transformers/tokenization_utils_base.py:2143: FutureWarning: The `pad_to_max_length` argument is deprecated and will be removed in a future version, use `padding=True` or `padding='longest'` to pad to the longest sequence in the batch, or use `padding='max_length'` to pad to a max length. In this case, you can give a specific length with `max_length` (e.g. `max_length=45`) or leave max_length to None to pad to the maximal input size of the model (e.g. 512 for Bert).\n",
            "  FutureWarning,\n"
          ],
          "name": "stderr"
        },
        {
          "output_type": "stream",
          "text": [
            "Training is Starting ...... \n"
          ],
          "name": "stdout"
        },
        {
          "output_type": "stream",
          "text": [
            "100%|██████████| 3/3 [23:59<00:00, 479.75s/it]\n",
            "\n",
            "\n",
            "\n",
            "100%|██████████| 3/3 [23:53<00:00, 477.75s/it]\n",
            "100%|██████████| 3/3 [23:59<00:00, 479.95s/it]\n",
            "100%|██████████| 3/3 [24:02<00:00, 530.19s/it]\n",
            "  0%|          | 0/3 [00:00<?, ?it/s]\n",
            "100%|██████████| 3/3 [05:12<00:00, 104.12s/it]\n",
            "100%|██████████| 3/3 [05:12<00:00, 104.13s/it]\n",
            "100%|██████████| 3/3 [05:12<00:00, 104.15s/it]\n",
            "100%|██████████| 3/3 [05:12<00:00, 104.19s/it]\n",
            "100%|██████████| 3/3 [05:12<00:00, 104.19s/it]\n",
            "100%|██████████| 3/3 [05:12<00:00, 104.26s/it]\n",
            "100%|██████████| 3/3 [05:12<00:00, 104.28s/it]\n",
            "100%|██████████| 3/3 [05:13<00:00, 104.37s/it]\n"
          ],
          "name": "stderr"
        }
      ]
    },
    {
      "cell_type": "code",
      "metadata": {
        "id": "_ZN73Nb9siLd",
        "colab": {
          "base_uri": "https://localhost:8080/",
          "height": 282
        },
        "outputId": "301ff7a7-480b-4dd0-cb27-5ef961130a1c"
      },
      "source": [
        "import seaborn as sns\r\n",
        "a=np.load('loss.npy',allow_pickle=False)\r\n",
        "sns.scatterplot(y=a,x=range(len(a)))"
      ],
      "execution_count": 9,
      "outputs": [
        {
          "output_type": "execute_result",
          "data": {
            "text/plain": [
              "<matplotlib.axes._subplots.AxesSubplot at 0x7fbba87060b8>"
            ]
          },
          "metadata": {
            "tags": []
          },
          "execution_count": 9
        },
        {
          "output_type": "display_data",
          "data": {
            "image/png": "[encoded data removed]",
            "text/plain": [
              "<Figure size 432x288 with 1 Axes>"
            ]
          },
          "metadata": {
            "tags": [],
            "needs_background": "light"
          }
        }
      ]
    },
    {
      "cell_type": "code",
      "metadata": {
        "id": "zuBsFDuqzRSf",
        "colab": {
          "base_uri": "https://localhost:8080/",
          "height": 286
        },
        "outputId": "dc342ebd-6080-4a97-9eac-238e28d8613e"
      },
      "source": [
        "\r\n",
        "a=np.load('valid.npy',allow_pickle=False)\r\n",
        "sns.scatterplot(y=a,x=range(len(a)))"
      ],
      "execution_count": 10,
      "outputs": [
        {
          "output_type": "execute_result",
          "data": {
            "text/plain": [
              "<matplotlib.axes._subplots.AxesSubplot at 0x7fb9ae1c55c0>"
            ]
          },
          "metadata": {
            "tags": []
          },
          "execution_count": 10
        },
        {
          "output_type": "display_data",
          "data": {
            "image/png": "[encoded data removed]",
            "text/plain": [
              "<Figure size 432x288 with 1 Axes>"
            ]
          },
          "metadata": {
            "tags": [],
            "needs_background": "light"
          }
        }
      ]
    },
    {
      "cell_type": "code",
      "metadata": {
        "id": "uywbMB3w2MZl"
      },
      "source": [
        ""
      ],
      "execution_count": 10,
      "outputs": []
    }
  ]
}