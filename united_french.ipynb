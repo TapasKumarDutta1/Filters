{
  "nbformat": 4,
  "nbformat_minor": 0,
  "metadata": {
    "colab": {
      "name": "united_french.ipynb",
      "provenance": [],
      "authorship_tag": "ABX9TyO4JRHQeTjL7wMFNrZXVkd3",
      "include_colab_link": true
    },
    "kernelspec": {
      "name": "python3",
      "display_name": "Python 3"
    }
  },
  "cells": [
    {
      "cell_type": "markdown",
      "metadata": {
        "id": "view-in-github",
        "colab_type": "text"
      },
      "source": [
        "<a href=\"https://colab.research.google.com/github/greyhound101/multilingial/blob/master/united_french.ipynb\" target=\"_parent\"><img src=\"https://colab.research.google.com/assets/colab-badge.svg\" alt=\"Open In Colab\"/></a>"
      ]
    },
    {
      "cell_type": "code",
      "metadata": {
        "colab": {
          "base_uri": "https://localhost:8080/"
        },
        "id": "a37dP56IgmFd",
        "outputId": "43ed5c98-c6c7-4ed6-efa7-2192528ffbd8"
      },
      "source": [
        "from google.colab import drive\r\n",
        "drive.mount('/content/gdrive')\r\n",
        "drive.mount(\"/content/gdrive\", force_remount=True)"
      ],
      "execution_count": 1,
      "outputs": [
        {
          "output_type": "stream",
          "text": [
            "Mounted at /content/gdrive\n",
            "Mounted at /content/gdrive\n"
          ],
          "name": "stdout"
        }
      ]
    },
    {
      "cell_type": "code",
      "metadata": {
        "id": "gGvBGufPgomr"
      },
      "source": [
        "import glob\r\n",
        "import numpy as np\r\n",
        "import os\r\n",
        "ls=[]\r\n",
        "for file in glob.glob('/content/gdrive/My Drive/multilingual/french_predictions*'):\r\n",
        "  a=np.load(file,allow_pickle=False)\r\n",
        "  ls.extend(a)\r\n",
        "  os.remove(file)"
      ],
      "execution_count": 8,
      "outputs": []
    },
    {
      "cell_type": "code",
      "metadata": {
        "id": "WMGm-lixhF-P"
      },
      "source": [
        "np.save('/content/gdrive/My Drive/multilingual/french_predictions',ls)"
      ],
      "execution_count": 9,
      "outputs": []
    }
  ]
}