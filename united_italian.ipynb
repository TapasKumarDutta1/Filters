{
  "nbformat": 4,
  "nbformat_minor": 0,
  "metadata": {
    "colab": {
      "name": "united_italian.ipynb",
      "provenance": [],
      "authorship_tag": "ABX9TyPvNBqHeqGU32JNZQmZ4aHW",
      "include_colab_link": true
    },
    "kernelspec": {
      "name": "python3",
      "display_name": "Python 3"
    }
  },
  "cells": [
    {
      "cell_type": "markdown",
      "metadata": {
        "id": "view-in-github",
        "colab_type": "text"
      },
      "source": [
        "<a href=\"https://colab.research.google.com/github/greyhound101/multilingial/blob/master/united_italian.ipynb\" target=\"_parent\"><img src=\"https://colab.research.google.com/assets/colab-badge.svg\" alt=\"Open In Colab\"/></a>"
      ]
    },
    {
      "cell_type": "code",
      "metadata": {
        "colab": {
          "base_uri": "https://localhost:8080/"
        },
        "id": "a37dP56IgmFd",
        "outputId": "7ed1ef97-dbe4-4298-b656-a8834d5d3d39"
      },
      "source": [
        "from google.colab import drive\r\n",
        "drive.mount('/content/gdrive')\r\n",
        "drive.mount(\"/content/gdrive\", force_remount=True)"
      ],
      "execution_count": 1,
      "outputs": [
        {
          "output_type": "stream",
          "text": [
            "Mounted at /content/gdrive\n",
            "Mounted at /content/gdrive\n"
          ],
          "name": "stdout"
        }
      ]
    },
    {
      "cell_type": "code",
      "metadata": {
        "id": "gGvBGufPgomr"
      },
      "source": [
        "import glob\r\n",
        "import numpy as np\r\n",
        "import os\r\n",
        "ls=[]\r\n",
        "for file in glob.glob('/content/gdrive/My Drive/multilingual/italian_predictions*'):\r\n",
        "  a=np.load(file,allow_pickle=False)\r\n",
        "  ls.extend(a)\r\n",
        "  os.remove(file)"
      ],
      "execution_count": 2,
      "outputs": []
    },
    {
      "cell_type": "code",
      "metadata": {
        "id": "WMGm-lixhF-P"
      },
      "source": [
        "np.save('/content/gdrive/My Drive/multilingual/italian_predictions',ls)"
      ],
      "execution_count": 3,
      "outputs": []
    },
    {
      "cell_type": "code",
      "metadata": {
        "colab": {
          "base_uri": "https://localhost:8080/"
        },
        "id": "yKjOd10mk9ET",
        "outputId": "03aa15dd-46aa-484c-8cf0-bba3fa1e6d94"
      },
      "source": [
        "len(ls)"
      ],
      "execution_count": 4,
      "outputs": [
        {
          "output_type": "execute_result",
          "data": {
            "text/plain": [
              "8494"
            ]
          },
          "metadata": {
            "tags": []
          },
          "execution_count": 4
        }
      ]
    },
    {
      "cell_type": "code",
      "metadata": {
        "colab": {
          "base_uri": "https://localhost:8080/"
        },
        "id": "D7t5OQWhk8-a",
        "outputId": "6b5143fb-de9a-4870-eabc-84b432291c72"
      },
      "source": [
        "import pandas as pd\r\n",
        "tst=pd.read_csv('/content/gdrive/My Drive/multilingual/test.csv.zip',usecols=['lang','content']) \r\n",
        "tst.loc[tst['lang']=='it'].shape"
      ],
      "execution_count": 6,
      "outputs": [
        {
          "output_type": "execute_result",
          "data": {
            "text/plain": [
              "(8494, 2)"
            ]
          },
          "metadata": {
            "tags": []
          },
          "execution_count": 6
        }
      ]
    },
    {
      "cell_type": "code",
      "metadata": {
        "id": "u_Hq1Ve7lFyK"
      },
      "source": [
        ""
      ],
      "execution_count": null,
      "outputs": []
    }
  ]
}